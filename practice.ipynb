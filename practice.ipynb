{
 "cells": [
  {
   "cell_type": "code",
   "execution_count": 1,
   "id": "de35a9c9-70f6-48f3-b774-382d2b7e7732",
   "metadata": {},
   "outputs": [],
   "source": [
    "from splinter import Browser\n",
    "from bs4 import BeautifulSoup as soup\n",
    "from webdriver_manager.chrome import ChromeDriverManager"
   ]
  },
  {
   "cell_type": "code",
   "execution_count": 2,
   "id": "c26c5238-b19d-4c84-a8ed-98425edc8945",
   "metadata": {},
   "outputs": [
    {
     "name": "stdout",
     "output_type": "stream",
     "text": [
      "\n"
     ]
    },
    {
     "name": "stderr",
     "output_type": "stream",
     "text": [
      "[WDM] - ====== WebDriver manager ======\n",
      "[WDM] - Current google-chrome version is 101.0.4951\n",
      "[WDM] - Get LATEST chromedriver version for 101.0.4951 google-chrome\n",
      "[WDM] - Driver [/Users/timnilsen/.wdm/drivers/chromedriver/mac64/101.0.4951.41/chromedriver] found in cache\n"
     ]
    }
   ],
   "source": [
    "# set up splinter\n",
    "executable_path = {'executable_path': ChromeDriverManager().install()}\n",
    "browser = Browser('chrome', **executable_path, headless=False)"
   ]
  },
  {
   "cell_type": "code",
   "execution_count": 3,
   "id": "82b52bd6-d6b1-4f09-bb70-0dea7ca5a7b6",
   "metadata": {},
   "outputs": [],
   "source": [
    "# visit the Quotes to Scrape site\n",
    "url = 'http://quotes.toscrape.com'\n",
    "browser.visit(url)"
   ]
  },
  {
   "cell_type": "code",
   "execution_count": 4,
   "id": "3c444c4a-eca3-48f6-8b3e-d36e1a72be48",
   "metadata": {},
   "outputs": [],
   "source": [
    "# parse the HTML\n",
    "html = browser.html\n",
    "html_soup = soup(html, 'html.parser')"
   ]
  },
  {
   "cell_type": "code",
   "execution_count": 5,
   "id": "cf938f76-2621-4756-9d66-d0d846bf0ce7",
   "metadata": {},
   "outputs": [
    {
     "data": {
      "text/plain": [
       "'Top Ten tags'"
      ]
     },
     "execution_count": 5,
     "metadata": {},
     "output_type": "execute_result"
    }
   ],
   "source": [
    "# scrape the title\n",
    "title = html_soup.find('h2').text\n",
    "title"
   ]
  },
  {
   "cell_type": "code",
   "execution_count": 6,
   "id": "87f1dc0d-eb26-4f3e-a679-cf3818c0ae86",
   "metadata": {},
   "outputs": [
    {
     "name": "stdout",
     "output_type": "stream",
     "text": [
      "love\n",
      "inspirational\n",
      "life\n",
      "humor\n",
      "books\n",
      "reading\n",
      "friendship\n",
      "friends\n",
      "truth\n",
      "simile\n"
     ]
    }
   ],
   "source": [
    "# scrape the top ten tags\n",
    "tag_box = html_soup.find('div', class_='tags-box')\n",
    "# tag box\n",
    "tags = tag_box.find_all('a', class_='tag')\n",
    "\n",
    "for tag in tags:\n",
    "    word = tag.text\n",
    "    print(word)"
   ]
  },
  {
   "cell_type": "code",
   "execution_count": 7,
   "id": "d2ec49d3-c61f-4b81-ae53-64effd8aacf0",
   "metadata": {},
   "outputs": [
    {
     "name": "stdout",
     "output_type": "stream",
     "text": [
      "page: 1 -----\n",
      "1: “The world as we have created it is a process of our thinking. It cannot be changed without changing our thinking.” \n",
      "\n",
      "2: “It is our choices, Harry, that show what we truly are, far more than our abilities.” \n",
      "\n",
      "3: “There are only two ways to live your life. One is as though nothing is a miracle. The other is as though everything is a miracle.” \n",
      "\n",
      "4: “The person, be it gentleman or lady, who has not pleasure in a good novel, must be intolerably stupid.” \n",
      "\n",
      "5: “Imperfection is beauty, madness is genius and it's better to be absolutely ridiculous than absolutely boring.” \n",
      "\n",
      "6: “Try not to become a man of success. Rather become a man of value.” \n",
      "\n",
      "7: “It is better to be hated for what you are than to be loved for what you are not.” \n",
      "\n",
      "8: “I have not failed. I've just found 10,000 ways that won't work.” \n",
      "\n",
      "9: “A woman is like a tea bag; you never know how strong it is until it's in hot water.” \n",
      "\n",
      "10: “A day without sunshine is like, you know, night.” \n",
      "\n",
      "page: 2 -----\n",
      "1: “This life is what you make it. No matter what, you're going to mess up sometimes, it's a universal truth. But the good part is you get to decide how you're going to mess it up. Girls will be your friends - they'll act like it anyway. But just remember, some come, some go. The ones that stay with you through everything - they're your true best friends. Don't let go of them. Also remember, sisters make the best friends in the world. As for lovers, well, they'll come and go too. And baby, I hate to say it, most of them - actually pretty much all of them are going to break your heart, but you can't give up because if you give up, you'll never find your soulmate. You'll never find that half who makes you whole and that goes for everything. Just because you fail once, doesn't mean you're gonna fail at everything. Keep trying, hold on, and always, always, always believe in yourself, because if you don't, then who will, sweetie? So keep your head high, keep your chin up, and most importantly, keep smiling, because life's a beautiful thing and there's so much to smile about.” \n",
      "\n",
      "2: “It takes a great deal of bravery to stand up to our enemies, but just as much to stand up to our friends.” \n",
      "\n",
      "3: “If you can't explain it to a six year old, you don't understand it yourself.” \n",
      "\n",
      "4: “You may not be her first, her last, or her only. She loved before she may love again. But if she loves you now, what else matters? She's not perfect—you aren't either, and the two of you may never be perfect together but if she can make you laugh, cause you to think twice, and admit to being human and making mistakes, hold onto her and give her the most you can. She may not be thinking about you every second of the day, but she will give you a part of her that she knows you can break—her heart. So don't hurt her, don't change her, don't analyze and don't expect more than she can give. Smile when she makes you happy, let her know when she makes you mad, and miss her when she's not there.” \n",
      "\n",
      "5: “I like nonsense, it wakes up the brain cells. Fantasy is a necessary ingredient in living.” \n",
      "\n",
      "6: “I may not have gone where I intended to go, but I think I have ended up where I needed to be.” \n",
      "\n",
      "7: “The opposite of love is not hate, it's indifference. The opposite of art is not ugliness, it's indifference. The opposite of faith is not heresy, it's indifference. And the opposite of life is not death, it's indifference.” \n",
      "\n",
      "8: “It is not a lack of love, but a lack of friendship that makes unhappy marriages.” \n",
      "\n",
      "9: “Good friends, good books, and a sleepy conscience: this is the ideal life.” \n",
      "\n",
      "10: “Life is what happens to us while we are making other plans.” \n",
      "\n",
      "page: 3 -----\n",
      "1: “I love you without knowing how, or when, or from where. I love you simply, without problems or pride: I love you in this way because I do not know any other way of loving but this, in which there is no I or you, so intimate that your hand upon my chest is my hand, so intimate that when I fall asleep your eyes close.” \n",
      "\n",
      "2: “For every minute you are angry you lose sixty seconds of happiness.” \n",
      "\n",
      "3: “If you judge people, you have no time to love them.” \n",
      "\n",
      "4: “Anyone who thinks sitting in church can make you a Christian must also think that sitting in a garage can make you a car.” \n",
      "\n",
      "5: “Beauty is in the eye of the beholder and it may be necessary from time to time to give a stupid or misinformed beholder a black eye.” \n",
      "\n",
      "6: “Today you are You, that is truer than true. There is no one alive who is Youer than You.” \n",
      "\n",
      "7: “If you want your children to be intelligent, read them fairy tales. If you want them to be more intelligent, read them more fairy tales.” \n",
      "\n",
      "8: “It is impossible to live without failing at something, unless you live so cautiously that you might as well not have lived at all - in which case, you fail by default.” \n",
      "\n",
      "9: “Logic will get you from A to Z; imagination will get you everywhere.” \n",
      "\n",
      "10: “One good thing about music, when it hits you, you feel no pain.” \n",
      "\n",
      "page: 4 -----\n",
      "1: “The more that you read, the more things you will know. The more that you learn, the more places you'll go.” \n",
      "\n",
      "2: “Of course it is happening inside your head, Harry, but why on earth should that mean that it is not real?” \n",
      "\n",
      "3: “The truth is, everyone is going to hurt you. You just got to find the ones worth suffering for.” \n",
      "\n",
      "4: “Not all of us can do great things. But we can do small things with great love.” \n",
      "\n",
      "5: “To the well-organized mind, death is but the next great adventure.” \n",
      "\n",
      "6: “All you need is love. But a little chocolate now and then doesn't hurt.” \n",
      "\n",
      "7: “We read to know we're not alone.” \n",
      "\n",
      "8: “Any fool can know. The point is to understand.” \n",
      "\n",
      "9: “I have always imagined that Paradise will be a kind of library.” \n",
      "\n",
      "10: “It is never too late to be what you might have been.” \n",
      "\n",
      "page: 5 -----\n",
      "1: “A reader lives a thousand lives before he dies, said Jojen. The man who never reads lives only one.” \n",
      "\n",
      "2: “You can never get a cup of tea large enough or a book long enough to suit me.” \n",
      "\n",
      "3: “You believe lies so you eventually learn to trust no one but yourself.” \n",
      "\n",
      "4: “If you can make a woman laugh, you can make her do anything.” \n",
      "\n",
      "5: “Life is like riding a bicycle. To keep your balance, you must keep moving.” \n",
      "\n",
      "6: “The real lover is the man who can thrill you by kissing your forehead or smiling into your eyes or just staring into space.” \n",
      "\n",
      "7: “A wise girl kisses but doesn't love, listens but doesn't believe, and leaves before she is left.” \n",
      "\n",
      "8: “Only in the darkness can you see the stars.” \n",
      "\n",
      "9: “It matters not what someone is born, but what they grow to be.” \n",
      "\n",
      "10: “Love does not begin and end the way we seem to think it does. Love is a battle, love is a war; love is a growing up.” \n",
      "\n"
     ]
    }
   ],
   "source": [
    "# for five pages, scrape all quotes on page, print each quote \n",
    "for n in range(1,6):\n",
    "    html = browser.html\n",
    "    quote_soup = soup(html, 'html.parser')\n",
    "    quotes = quote_soup.find_all('span', class_='text')\n",
    "    print(f'page: {n} -----')\n",
    "    for i,q in enumerate(quotes, start=1):\n",
    "        print(f'{i}: {q.text} \\n')\n",
    "    browser.links.find_by_partial_text('Next').click()"
   ]
  },
  {
   "cell_type": "code",
   "execution_count": null,
   "id": "ecadf3f6-38c1-4c7f-9b07-6ee18987aa3a",
   "metadata": {},
   "outputs": [],
   "source": []
  }
 ],
 "metadata": {
  "kernelspec": {
   "display_name": "PythonData",
   "language": "python",
   "name": "pythondata"
  },
  "language_info": {
   "codemirror_mode": {
    "name": "ipython",
    "version": 3
   },
   "file_extension": ".py",
   "mimetype": "text/x-python",
   "name": "python",
   "nbconvert_exporter": "python",
   "pygments_lexer": "ipython3",
   "version": "3.7.13"
  }
 },
 "nbformat": 4,
 "nbformat_minor": 5
}
